{
 "cells": [
  {
   "cell_type": "markdown",
   "metadata": {},
   "source": [
    "> <span style=\"font-size: 20px; color: red;\">IMPORTANT</span>\n",
    ">\n",
    "> Не смейте запускать данное чудо где-либо еще, крмое кегли, если не хотите дополнительно устанавливать лишние для себя пакета. Поберегите свою рабочую машинку, спасибо!"
   ]
  },
  {
   "cell_type": "markdown",
   "metadata": {},
   "source": [
    "# Оглавление"
   ]
  },
  {
   "cell_type": "markdown",
   "metadata": {},
   "source": [
    "<details>\n",
    "<summary>Развернуть Оглавление</summary>\n",
    "\n",
    "1. Постановка задачи\n",
    "2. Импортирование библиотек\n",
    "3. EDA Анализ\n",
    "4. Препроцессинг\n",
    "5. Алгоритмы\n",
    "    1. Линейная регрессия\n",
    "    2. SVM\n",
    "    3. Decision Tree\n",
    "    4. Random Forest\n",
    "    5. KNN\n",
    "6. Подбор гиперпараметров\n",
    "    1. CatBoost\n",
    "    2. Random Forest\n",
    "    3. Gradient Boosting\n",
    "7. Реализация ансамбля через стэкинг моделей\n",
    "8. SHAP Анализ\n",
    "    1. Waterfall\n",
    "    2. Bar chart\n",
    "    3. Beeswarm\n",
    "9. Экспортирование результатов\n",
    "\n",
    "</details>"
   ]
  },
  {
   "cell_type": "markdown",
   "metadata": {},
   "source": [
    "# 1. Постановка задачи"
   ]
  },
  {
   "cell_type": "markdown",
   "metadata": {},
   "source": [
    "## Первая лабораторная работа по вводнуму курсу ML.\n",
    "`Цель: предсказание стоимости авто.`\n",
    "<details>\n",
    "<summary>Описание данных</summary>\n",
    "\n",
    "- Brand: Name of the car manufacturer\n",
    "- Year: Year of manufacture or release\n",
    "- Model: Name or code of the car model\n",
    "- Car/Suv: Type of the car (car or suv)\n",
    "- Title: Title or description of the car\n",
    "- UsedOrNew: Condition of the car (used or new)\n",
    "- Transmission: Type of transmission (manual or automatic)\n",
    "- Engine: Engine capacity or power (in litres or kilowatts)\n",
    "- DriveType: Type of drive (front-wheel, rear-wheel, or all-wheel)\n",
    "- FuelType: Type of fuel (petrol, diesel, hybrid, or electric)\n",
    "- FuelConsumption: Fuel consumption rate (in litres per 100 km)\n",
    "- Kilometres: Distance travelled by the car (in kilometres)\n",
    "- ColourExtInt: Colour of the car (exterior and interior)\n",
    "- Location: Location of the car (city and state)\n",
    "- CylindersinEngine: Number of cylinders in the engine\n",
    "- BodyType: Shape or style of the car body (sedan, hatchback, coupe, etc.)\n",
    "- Doors: Number of doors in the car\n",
    "- Seats: Number of seats in the car\n",
    "- Price: Price of the car (in dollars) **TARGET**\n",
    "\n",
    "</details>\n",
    "<details>\n",
    "<summary>Требования</summary>\n",
    "\n",
    "1. Сделать первичный анализ данных EDA\n",
    "2. Использовать стандартные алгоритмы ML, Linear Regression, DT etc (не менее 3)\n",
    "3. Использовать алгоритмы подбора гиперпараметров, GridSearch, RandomSearch etc. (не менее 1)\n",
    "4. Использовать анасамбль с помощью бустинга или беггинга (не менее 1)\n",
    "5. Реализовать из нескольких моделей анасамбль с помощью стекинга (не менее 1)\n",
    "6. Сделать анализ параметров полученной модели ( анализ интерпретируемости) SHAP etc. (не менее 1 модели)\n",
    "\n",
    "</details>"
   ]
  },
  {
   "cell_type": "markdown",
   "metadata": {},
   "source": [
    "# 2. Импортирование библиотек"
   ]
  },
  {
   "cell_type": "code",
   "execution_count": null,
   "metadata": {
    "_cell_guid": "b1076dfc-b9ad-4769-8c92-a6c4dae69d19",
    "_uuid": "8f2839f25d086af736a60e9eeb907d3b93b6e0e5"
   },
   "outputs": [],
   "source": [
    "%matplotlib inline\n",
    "\n",
    "import matplotlib.pyplot as plt\n",
    "import seaborn as sns\n",
    "import numpy as np\n",
    "import pandas as pd\n",
    "from ydata_profiling import ProfileReport\n",
    "from tqdm.notebook import tqdm\n",
    "\n",
    "from sklearn.preprocessing import StandardScaler, OneHotEncoder\n",
    "from sklearn.linear_model import LinearRegression, Ridge\n",
    "from sklearn.svm import SVR\n",
    "from sklearn.neighbors import KNeighborsRegressor\n",
    "from sklearn.tree import DecisionTreeRegressor\n",
    "from sklearn.ensemble import (\n",
    "    RandomForestRegressor,\n",
    "    GradientBoostingRegressor,\n",
    "    IsolationForest,\n",
    ")\n",
    "from sklearn.metrics import mean_squared_error\n",
    "from sklearn.feature_selection import SelectKBest, f_classif\n",
    "from sklearn.model_selection import train_test_split, KFold\n",
    "\n",
    "from catboost import CatBoostRegressor\n",
    "\n",
    "import shap\n",
    "\n",
    "import optuna\n",
    "\n",
    "import logging\n",
    "\n",
    "logger = logging.getLogger('sklearnex')\n",
    "logger.setLevel(logging.WARNING)\n",
    "\n",
    "sns.set(\n",
    "    palette='tab10',\n",
    "    font_scale=1.2,\n",
    "    rc={\n",
    "        'figure.figsize': (9, 7),\n",
    "        'axes.titlepad': 24,\n",
    "        'axes.labelpad': 20,\n",
    "        'axes.titlesize': 22,\n",
    "        'figure.titlesize': 22,\n",
    "        'figure.subplot.hspace': 0.3,\n",
    "        'figure.subplot.wspace': 0.25,\n",
    "    },\n",
    ")\n",
    "\n",
    "RAND_STATE = 42\n",
    "np.random.seed(RAND_STATE)"
   ]
  },
  {
   "cell_type": "markdown",
   "metadata": {},
   "source": [
    "# 3. EDA Анализ"
   ]
  },
  {
   "cell_type": "markdown",
   "metadata": {},
   "source": [
    "`Данные датасеты будут использоваться в качестве тренировочных и тестовых.`"
   ]
  },
  {
   "cell_type": "code",
   "execution_count": null,
   "metadata": {
    "execution": {
     "iopub.execute_input": "2023-12-27T15:53:36.727513Z",
     "iopub.status.busy": "2023-12-27T15:53:36.726815Z",
     "iopub.status.idle": "2023-12-27T15:53:36.877230Z",
     "shell.execute_reply": "2023-12-27T15:53:36.875951Z",
     "shell.execute_reply.started": "2023-12-27T15:53:36.727468Z"
    }
   },
   "outputs": [],
   "source": [
    "df_orig = pd.read_csv('./x_train.csv')\n",
    "df = df_orig.copy()\n",
    "test_submit = pd.read_csv('./x_test.csv')\n",
    "df.head()"
   ]
  },
  {
   "cell_type": "markdown",
   "metadata": {},
   "source": [
    "`Установим соответствие между типами признаков, наличием пропущенных значений и количеством уникальных значений. В дальнейшем, для того чтобы уменьшить количество рутинной работы и повысить эффективность, мы изменим формат датасета и проведем его первичный анализ.`"
   ]
  },
  {
   "cell_type": "code",
   "execution_count": null,
   "metadata": {
    "execution": {
     "iopub.execute_input": "2023-12-27T15:53:36.879111Z",
     "iopub.status.busy": "2023-12-27T15:53:36.878720Z",
     "iopub.status.idle": "2023-12-27T15:53:36.924057Z",
     "shell.execute_reply": "2023-12-27T15:53:36.923033Z",
     "shell.execute_reply.started": "2023-12-27T15:53:36.879078Z"
    }
   },
   "outputs": [],
   "source": [
    "df.info()"
   ]
  },
  {
   "cell_type": "markdown",
   "metadata": {},
   "source": [
    "`Из всех признаков большая их часть является строковыми. Очевидно, что первый нумерующий столбец \"Unnamed: 0\" является индексирующим и его можно исключить из списка. На основе его отсутствия можно сделать вывод о наличии 18 признаков и 1 документально установленный таргет (Price). Есть несколько отличительных признаков, имеющих в себе пропуски значений (Location, BodyType, Doors, Seats). Price, Year - числовые признаки, собственно, как и год. Но в отличие от первых двух, последний является float`"
   ]
  },
  {
   "cell_type": "code",
   "execution_count": null,
   "metadata": {
    "_kg_hide-output": false,
    "execution": {
     "iopub.execute_input": "2023-12-27T15:53:36.928164Z",
     "iopub.status.busy": "2023-12-27T15:53:36.926859Z",
     "iopub.status.idle": "2023-12-27T15:53:36.974876Z",
     "shell.execute_reply": "2023-12-27T15:53:36.973442Z",
     "shell.execute_reply.started": "2023-12-27T15:53:36.928110Z"
    }
   },
   "outputs": [],
   "source": [
    "df.nunique()"
   ]
  },
  {
   "cell_type": "code",
   "execution_count": null,
   "metadata": {
    "execution": {
     "iopub.execute_input": "2023-12-27T15:53:36.977048Z",
     "iopub.status.busy": "2023-12-27T15:53:36.976634Z",
     "iopub.status.idle": "2023-12-27T15:53:36.985830Z",
     "shell.execute_reply": "2023-12-27T15:53:36.984402Z",
     "shell.execute_reply.started": "2023-12-27T15:53:36.977016Z"
    }
   },
   "outputs": [],
   "source": [
    "description = {\n",
    "    'Brand': 'Name of the car manufacturer',\n",
    "    'Year': 'Year of manufacture or release',\n",
    "    'Model': 'Name or code of the car model',\n",
    "    'Car/Suv': 'Type of the car (car or suv)',\n",
    "    'Title': 'Title or description of the car',\n",
    "    'UsedOrNew': 'Condition of the car (used or new)',\n",
    "    'Transmission': 'Type of transmission (manual or automatic)',\n",
    "    'Engine': 'Engine capacity or power (in litres or kilowatts)',\n",
    "    'DriveType': 'Type of drive (front-wheel, rear-wheel, or all-wheel)',\n",
    "    'FuelType': 'Type of fuel (petrol, diesel, hybrid, or electric)',\n",
    "    'FuelConsumption': 'Fuel consumption rate (in litres per 100 km)',\n",
    "    'Kilometres': 'Distance travelled by the car (in kilometres)',\n",
    "    'ColourExtInt': 'Colour of the car (exterior and interior)',\n",
    "    'Location': 'Location of the car (city and state)',\n",
    "    'CylindersinEngine': 'Number of cylinders in the engine',\n",
    "    'BodyType': 'Shape or style of the car body (sedan, hatchback, coupe, etc.)',\n",
    "    'Doors': 'Number of doors in the car',\n",
    "    'Seats': 'Number of seats in the car',\n",
    "    'Price': 'Price of the car (in dollars)',\n",
    "}"
   ]
  },
  {
   "cell_type": "code",
   "execution_count": null,
   "metadata": {
    "execution": {
     "iopub.execute_input": "2023-12-27T15:53:36.988321Z",
     "iopub.status.busy": "2023-12-27T15:53:36.987868Z",
     "iopub.status.idle": "2023-12-27T15:54:15.584778Z",
     "shell.execute_reply": "2023-12-27T15:54:15.583067Z",
     "shell.execute_reply.started": "2023-12-27T15:53:36.988286Z"
    }
   },
   "outputs": [],
   "source": [
    "profile = ProfileReport(\n",
    "    df,\n",
    "    minimal=True,\n",
    "    variables={'descriptions': description},\n",
    "    correlations={\n",
    "        'auto': {'calculate': True},\n",
    "        'phi_k': {'calculate': True},\n",
    "        'cramers': {'calculate': True},\n",
    "    },\n",
    "    interactions={'targets': ['Price']},\n",
    "    html={'style': {'theme': 'flatly'}},\n",
    "    missing_diagrams={'bar': True, 'heatmap': True},\n",
    ")\n",
    "profile.to_file('cars_dataset_overview.html')"
   ]
  },
  {
   "cell_type": "markdown",
   "metadata": {},
   "source": [
    "`Итог таков, что из всех 75-ти представленных брендов, верх одерживает Toyota с резульатом в 17% от общего числа. Учитывая корреляцию, можно выделить сильную зависимость цены, от бренды, что важно и логично (чем премиальнее авто, тем цена растет выше). Отсюда мы также можем видеть и корреляцию других признаков по отношению к бренду. Ведь на то он и бренд, чтобы придерживаться своих стандартов и выпускать автомобили согласно нему. Отсюда, кстати, вытекает еще один признак - BodyType, который тоже добавляем в корзину для обработки.\n",
    "Касательно года можно отметить, что большая часть автомобилей была произведена в промежуток с 2013 по 2020 годы, и лишь некоторые экземпляры мелькают в датасете с датами за 90е годы. Как минимум в виду данных мельчайших отклонений не имеет смысла строить графики, иначе они поедут.\n",
    "Новая машина или б/у такжа входит в список важных атрибутов, которые можно будет использовать при анализе.\n",
    "По типу двигателя люди часто и выбирают автомобиль, стараюстя присмотреть помощнее. Для приличия возмьем и этот атрибут на обработку.\n",
    "Остальные параметры, такие как, например, FuelConsumption, Kilometres, CylindersinEngine либо являются числовыми, либо могут быть таковыми после пары преобразований.\n",
    "Остальная часть не имеет особого смысла по разным причинам: отсутствие данных, низкая актуальность для данной работы и т.д. По ходу будет понятно, что и где используется.`\n"
   ]
  },
  {
   "cell_type": "markdown",
   "metadata": {},
   "source": [
    "# 4. Препроцессинг"
   ]
  },
  {
   "cell_type": "code",
   "execution_count": null,
   "metadata": {
    "execution": {
     "iopub.execute_input": "2023-12-27T15:54:15.587389Z",
     "iopub.status.busy": "2023-12-27T15:54:15.586948Z",
     "iopub.status.idle": "2023-12-27T15:54:15.594116Z",
     "shell.execute_reply": "2023-12-27T15:54:15.593054Z",
     "shell.execute_reply.started": "2023-12-27T15:54:15.587354Z"
    }
   },
   "outputs": [],
   "source": [
    "y = df.pop('Price')"
   ]
  },
  {
   "cell_type": "code",
   "execution_count": null,
   "metadata": {
    "execution": {
     "iopub.execute_input": "2023-12-27T15:54:15.596817Z",
     "iopub.status.busy": "2023-12-27T15:54:15.596171Z",
     "iopub.status.idle": "2023-12-27T15:54:15.618731Z",
     "shell.execute_reply": "2023-12-27T15:54:15.617356Z",
     "shell.execute_reply.started": "2023-12-27T15:54:15.596773Z"
    }
   },
   "outputs": [],
   "source": [
    "def clearData(df):\n",
    "    '''\n",
    "    Преобразуем километры, расход топлива и количество цилиндров в чисто числовые значения\n",
    "    А в местах, где ничего нет, мы просто добавим нули, так будет удобнее.\n",
    "    '''\n",
    "    df['Kilometres'] = (\n",
    "        df['Kilometres'].str.replace('- / -|-', '0', regex=True).astype(float)\n",
    "    )\n",
    "    df['FuelType'] = df['FuelType'].str.replace(\n",
    "        '-', 'Other'\n",
    "    )\n",
    "    df['FuelConsumption'] = df['FuelConsumption'].str.replace('-', 'NaN')\n",
    "    df['FuelConsumption'] = (\n",
    "        df['FuelConsumption'].str.replace('L / 100 km', '').astype(float)\n",
    "    )\n",
    "    df['FuelConsumption'] = df['FuelConsumption'].fillna(\n",
    "        df['FuelConsumption'].median()\n",
    "    )\n",
    "    df['CylindersinEngine'] = df['CylindersinEngine'].str.replace(\n",
    "        '-', '0'\n",
    "    )\n",
    "    df['CylindersinEngine'] = (\n",
    "        df['CylindersinEngine'].str.replace('cyl|L', '', regex=True).astype(float)\n",
    "    )\n",
    "    df['Seats'] = df['Seats'].str.replace('Seats', '').str.strip()\n",
    "    df['Seats'] = df['Seats'].fillna(df['Seats'].median()).astype(int)\n",
    "    df = df.drop(\n",
    "        columns=[\n",
    "            'Unnamed: 0',\n",
    "            'Model',\n",
    "            'Title',\n",
    "            'ColourExtInt',\n",
    "            'Location',\n",
    "            'Car/Suv',\n",
    "            'Engine',\n",
    "            'Doors',\n",
    "        ]\n",
    "    )\n",
    "\n",
    "    return df\n",
    "\n",
    "\n",
    "def applyOneHot(train, test):\n",
    "    '''\n",
    "    Применяем однократное кодирование к категориальным объектам\n",
    "    '''\n",
    "    cols = [\n",
    "        'Brand',\n",
    "        'UsedOrNew',\n",
    "        'DriveType',\n",
    "        'FuelType',\n",
    "        'BodyType',\n",
    "        'Transmission',\n",
    "        'CylindersinEngine',\n",
    "    ]\n",
    "    enc = OneHotEncoder(handle_unknown='ignore', drop='first', sparse_output=False)\n",
    "\n",
    "    train_onehotted = pd.DataFrame(enc.fit_transform(train[cols]), index=train.index)\n",
    "    test_onehotted = pd.DataFrame(enc.transform(test[cols]), index=test.index)\n",
    "\n",
    "    col_names = enc.get_feature_names_out(enc.feature_names_in_)\n",
    "    train_onehotted.columns = col_names\n",
    "    test_onehotted.columns = col_names\n",
    "\n",
    "    train = pd.concat([train.drop(columns=cols), train_onehotted], axis=1)\n",
    "    test = pd.concat([test.drop(columns=cols), test_onehotted], axis=1)\n",
    "\n",
    "    return train, test\n",
    "\n",
    "\n",
    "def applyScaling(train, test, scaler):\n",
    "    '''\n",
    "    Приименяем масштабирование значений ко всему набору данных. Будем считать, что все объекты уже числовые.\n",
    "    '''\n",
    "    train = pd.DataFrame(\n",
    "        scaler.fit_transform(train), columns=train.columns, index=train.index\n",
    "    )\n",
    "    test = pd.DataFrame(scaler.transform(test), columns=test.columns, index=test.index)\n",
    "    return train, test\n",
    "\n",
    "\n",
    "def preprocess(train, test, scaler):\n",
    "    '''\n",
    "    Преобразуем датасет так, чтобы с ним можно было работать\n",
    "    '''\n",
    "    train = clearData(train)\n",
    "    test = clearData(test)\n",
    "    train, test = applyOneHot(train, test)\n",
    "    return train, test"
   ]
  },
  {
   "cell_type": "code",
   "execution_count": null,
   "metadata": {
    "execution": {
     "iopub.execute_input": "2023-12-27T15:54:15.620867Z",
     "iopub.status.busy": "2023-12-27T15:54:15.620385Z",
     "iopub.status.idle": "2023-12-27T15:54:15.847262Z",
     "shell.execute_reply": "2023-12-27T15:54:15.845949Z",
     "shell.execute_reply.started": "2023-12-27T15:54:15.620831Z"
    }
   },
   "outputs": [],
   "source": [
    "# Валидация данных\n",
    "X_train, X_test, y_train, y_test = train_test_split(\n",
    "    df, y, test_size=0.3, random_state=RAND_STATE\n",
    ")\n",
    "X_train, X_test = preprocess(X_train, X_test, StandardScaler())"
   ]
  },
  {
   "cell_type": "code",
   "execution_count": null,
   "metadata": {
    "execution": {
     "iopub.execute_input": "2023-12-27T15:54:15.853629Z",
     "iopub.status.busy": "2023-12-27T15:54:15.853224Z",
     "iopub.status.idle": "2023-12-27T15:54:16.119734Z",
     "shell.execute_reply": "2023-12-27T15:54:16.118473Z",
     "shell.execute_reply.started": "2023-12-27T15:54:15.853597Z"
    }
   },
   "outputs": [],
   "source": [
    "# Полные данные для подготовки окончательной модели\n",
    "df, test_submit = preprocess(df, test_submit, StandardScaler())\n",
    "test_submit.head()"
   ]
  },
  {
   "cell_type": "markdown",
   "metadata": {},
   "source": [
    "`Далее делаем проверку на error terms или на русском - выбросы`"
   ]
  },
  {
   "cell_type": "code",
   "execution_count": null,
   "metadata": {
    "execution": {
     "iopub.execute_input": "2023-12-27T15:54:16.121501Z",
     "iopub.status.busy": "2023-12-27T15:54:16.121121Z",
     "iopub.status.idle": "2023-12-27T15:54:27.322764Z",
     "shell.execute_reply": "2023-12-27T15:54:27.321570Z",
     "shell.execute_reply.started": "2023-12-27T15:54:16.121470Z"
    }
   },
   "outputs": [],
   "source": [
    "outliers_detector = IsolationForest(n_estimators=1000, random_state=RAND_STATE).fit(df)\n",
    "outliers_analysis = pd.DataFrame(outliers_detector.predict(df)).replace(\n",
    "    {-1: 'Anomaly', 1: 'Normal'}\n",
    ")\n",
    "\n",
    "pd.concat(\n",
    "    [\n",
    "        outliers_analysis.value_counts().rename('Count'),\n",
    "        outliers_analysis.value_counts(normalize=True).rename('Proportion').round(2),\n",
    "    ],\n",
    "    axis=1,\n",
    ")"
   ]
  },
  {
   "cell_type": "code",
   "execution_count": null,
   "metadata": {
    "execution": {
     "iopub.execute_input": "2023-12-27T15:54:27.325379Z",
     "iopub.status.busy": "2023-12-27T15:54:27.324552Z",
     "iopub.status.idle": "2023-12-27T15:54:27.353634Z",
     "shell.execute_reply": "2023-12-27T15:54:27.352425Z",
     "shell.execute_reply.started": "2023-12-27T15:54:27.325334Z"
    }
   },
   "outputs": [],
   "source": [
    "df_orig[outliers_analysis[0] == 'Anomaly']"
   ]
  },
  {
   "cell_type": "markdown",
   "metadata": {},
   "source": [
    "`По результатам отработки алгоритм не нашел ничего серьезного. Хотя очень странно наблюдать в датасете автомобили с 12ю дверьми. Возможно, мы имеем дело с автобусом.`"
   ]
  },
  {
   "cell_type": "markdown",
   "metadata": {},
   "source": [
    "`Далее будем отмерять важность отбираемых признаков. SelectKBest оценит взаимосвязь предикторов с целевой переменной, используя статистические тесты, позволяя отобрать соответственно заданное количество и долю наилучших по заданному критерию признаков`"
   ]
  },
  {
   "cell_type": "code",
   "execution_count": null,
   "metadata": {
    "execution": {
     "iopub.execute_input": "2023-12-27T15:54:27.355192Z",
     "iopub.status.busy": "2023-12-27T15:54:27.354838Z",
     "iopub.status.idle": "2023-12-27T15:54:28.626476Z",
     "shell.execute_reply": "2023-12-27T15:54:28.625613Z",
     "shell.execute_reply.started": "2023-12-27T15:54:27.355161Z"
    }
   },
   "outputs": [],
   "source": [
    "selector = SelectKBest(f_classif).fit(df, y)\n",
    "k_features = 20\n",
    "important_features = selector.scores_ != np.inf\n",
    "\n",
    "results = pd.DataFrame(\n",
    "    {\n",
    "        'Score': selector.scores_[important_features][:k_features],\n",
    "        'Feature': df.columns[important_features][:k_features],\n",
    "    }\n",
    ").sort_values(by='Score', ascending=False)\n",
    "\n",
    "_, ax = plt.subplots(figsize=(12, 12))\n",
    "p = sns.barplot(ax=ax, data=results, x='Score', y='Feature')\n",
    "_ = p.set_title('Feature Importance')"
   ]
  },
  {
   "cell_type": "markdown",
   "metadata": {},
   "source": [
    "`Как уже и оговаривалось ранее, бренд - есть цена, и он сильно определяет итоговый ценник.`"
   ]
  },
  {
   "cell_type": "markdown",
   "metadata": {},
   "source": [
    "# 5. Алгоритмы"
   ]
  },
  {
   "cell_type": "code",
   "execution_count": null,
   "metadata": {
    "execution": {
     "iopub.execute_input": "2023-12-27T15:54:28.628894Z",
     "iopub.status.busy": "2023-12-27T15:54:28.627621Z",
     "iopub.status.idle": "2023-12-27T15:54:28.642175Z",
     "shell.execute_reply": "2023-12-27T15:54:28.641202Z",
     "shell.execute_reply.started": "2023-12-27T15:54:28.628849Z"
    }
   },
   "outputs": [],
   "source": [
    "def cross_validation(X: pd.DataFrame, y: pd.DataFrame, model, cv: int = 5, **kwargs):\n",
    "    '''\n",
    "    Выполняем перекрестную проверку и возвращаем среднее значение для тренинга и тестового RMSE\n",
    "    '''\n",
    "    kf = KFold(n_splits=cv, shuffle=True, random_state=RAND_STATE)\n",
    "    train_rmse = test_rmse = 0\n",
    "    for i, (train_idx, valid_idx) in enumerate(tqdm(kf.split(X, y), total=cv)):\n",
    "        valid_data = X.iloc[valid_idx]\n",
    "        valid_labels = y.iloc[valid_idx]\n",
    "        train_data = X.iloc[train_idx]\n",
    "        train_labels = y.iloc[train_idx]\n",
    "\n",
    "        fitted_model = model(**kwargs).fit(train_data.values, train_labels)\n",
    "\n",
    "        train_pred = fitted_model.predict(train_data.values)\n",
    "        valid_pred = fitted_model.predict(valid_data.values)\n",
    "\n",
    "        train_rmse_cv = round(\n",
    "            mean_squared_error(train_labels, train_pred, squared=False)\n",
    "        )\n",
    "        test_rmse_cv = round(\n",
    "            mean_squared_error(valid_labels, valid_pred, squared=False)\n",
    "        )\n",
    "        print(f'K-Fold #{i + 1}:')\n",
    "        print(f'    - Тренинг RMSE: [ {train_rmse_cv} ]')\n",
    "        print(f'    - Тест RMSE: [ {test_rmse_cv} ]\\n')\n",
    "\n",
    "        train_rmse += train_rmse_cv\n",
    "        test_rmse += test_rmse_cv\n",
    "\n",
    "    train_rmse = int(train_rmse / cv)\n",
    "    test_rmse = int(test_rmse / cv)\n",
    "    print(f'Среднее тренинговое  RMSE: [ {train_rmse} ] | Среднее тестовое RMSE: [] {test_rmse} ]')\n",
    "\n",
    "    return train_rmse, test_rmse"
   ]
  },
  {
   "cell_type": "markdown",
   "metadata": {},
   "source": [
    "## 5.1. Линейная регрессия"
   ]
  },
  {
   "cell_type": "code",
   "execution_count": null,
   "metadata": {
    "execution": {
     "iopub.execute_input": "2023-12-27T15:54:28.644895Z",
     "iopub.status.busy": "2023-12-27T15:54:28.644079Z",
     "iopub.status.idle": "2023-12-27T15:54:29.683655Z",
     "shell.execute_reply": "2023-12-27T15:54:29.680923Z",
     "shell.execute_reply.started": "2023-12-27T15:54:28.644856Z"
    }
   },
   "outputs": [],
   "source": [
    "%%time\n",
    "linear_reg = LinearRegression\n",
    "_ = cross_validation(df, y, linear_reg)"
   ]
  },
  {
   "cell_type": "markdown",
   "metadata": {},
   "source": [
    "## 5.2. SVM"
   ]
  },
  {
   "cell_type": "code",
   "execution_count": null,
   "metadata": {
    "execution": {
     "iopub.execute_input": "2023-12-27T15:54:29.689402Z",
     "iopub.status.busy": "2023-12-27T15:54:29.687099Z",
     "iopub.status.idle": "2023-12-27T15:54:44.113973Z",
     "shell.execute_reply": "2023-12-27T15:54:44.112116Z",
     "shell.execute_reply.started": "2023-12-27T15:54:29.689335Z"
    }
   },
   "outputs": [],
   "source": [
    "%%time\n",
    "svm = SVR\n",
    "svm_train_rmse, svm_test_rmse = cross_validation(df, y, svm)"
   ]
  },
  {
   "cell_type": "markdown",
   "metadata": {},
   "source": [
    "> Уже лучше. Машина стабильно обучилась, переобучения нет"
   ]
  },
  {
   "cell_type": "markdown",
   "metadata": {},
   "source": [
    "## 5.3. Decision Tree (DT)"
   ]
  },
  {
   "cell_type": "code",
   "execution_count": null,
   "metadata": {
    "execution": {
     "iopub.execute_input": "2023-12-27T15:54:44.116641Z",
     "iopub.status.busy": "2023-12-27T15:54:44.116111Z",
     "iopub.status.idle": "2023-12-27T15:54:45.026807Z",
     "shell.execute_reply": "2023-12-27T15:54:45.025460Z",
     "shell.execute_reply.started": "2023-12-27T15:54:44.116591Z"
    }
   },
   "outputs": [],
   "source": [
    "%%time\n",
    "dtr = DecisionTreeRegressor\n",
    "dtr_train_rmse, dtr_test_rmse = cross_validation(df, y, dtr)"
   ]
  },
  {
   "cell_type": "markdown",
   "metadata": {},
   "source": [
    "## 5.4. Random Forest (RF)"
   ]
  },
  {
   "cell_type": "code",
   "execution_count": null,
   "metadata": {
    "execution": {
     "iopub.execute_input": "2023-12-27T15:54:45.029019Z",
     "iopub.status.busy": "2023-12-27T15:54:45.028571Z",
     "iopub.status.idle": "2023-12-27T15:55:30.271231Z",
     "shell.execute_reply": "2023-12-27T15:55:30.270087Z",
     "shell.execute_reply.started": "2023-12-27T15:54:45.028978Z"
    }
   },
   "outputs": [],
   "source": [
    "%%time\n",
    "rf = RandomForestRegressor\n",
    "rf_train_rmse, rf_test_rmse = cross_validation(df, y, rf)"
   ]
  },
  {
   "cell_type": "markdown",
   "metadata": {},
   "source": [
    "## 5.5. KNN"
   ]
  },
  {
   "cell_type": "code",
   "execution_count": null,
   "metadata": {
    "execution": {
     "iopub.execute_input": "2023-12-27T15:55:30.273787Z",
     "iopub.status.busy": "2023-12-27T15:55:30.273329Z",
     "iopub.status.idle": "2023-12-27T15:55:33.897026Z",
     "shell.execute_reply": "2023-12-27T15:55:33.895751Z",
     "shell.execute_reply.started": "2023-12-27T15:55:30.273751Z"
    }
   },
   "outputs": [],
   "source": [
    "%%time\n",
    "knn = KNeighborsRegressor\n",
    "knn_train_rmse, knn_test_rmse = cross_validation(df, y, knn)"
   ]
  },
  {
   "cell_type": "markdown",
   "metadata": {},
   "source": [
    "### Итог"
   ]
  },
  {
   "cell_type": "code",
   "execution_count": null,
   "metadata": {
    "execution": {
     "iopub.execute_input": "2023-12-27T15:56:09.422750Z",
     "iopub.status.busy": "2023-12-27T15:56:09.422370Z",
     "iopub.status.idle": "2023-12-27T15:56:09.438672Z",
     "shell.execute_reply": "2023-12-27T15:56:09.437109Z",
     "shell.execute_reply.started": "2023-12-27T15:56:09.422717Z"
    }
   },
   "outputs": [],
   "source": [
    "train_rmse = ['Train', svm_train_rmse, dtr_train_rmse, rf_train_rmse, knn_train_rmse]\n",
    "test_rmse = ['Test', svm_test_rmse, dtr_test_rmse, rf_test_rmse, knn_test_rmse]\n",
    "algos = ['Type', 'SVM', 'Decision Tree', 'Random Forest', 'KNN']\n",
    "metrics = pd.DataFrame(data=[train_rmse, test_rmse], columns=algos)\n",
    "metrics[metrics.columns[1:]] = round(metrics[metrics.columns[1:]] / 1000, 1)"
   ]
  },
  {
   "cell_type": "code",
   "execution_count": null,
   "metadata": {
    "execution": {
     "iopub.execute_input": "2023-12-27T15:56:09.441370Z",
     "iopub.status.busy": "2023-12-27T15:56:09.440855Z",
     "iopub.status.idle": "2023-12-27T15:56:10.201233Z",
     "shell.execute_reply": "2023-12-27T15:56:10.200051Z",
     "shell.execute_reply.started": "2023-12-27T15:56:09.441326Z"
    }
   },
   "outputs": [],
   "source": [
    "metrics_to_plot = metrics.melt(id_vars='Type').rename(columns=str.title)\n",
    "_, ax = plt.subplots(figsize=(16, 9))\n",
    "p = sns.barplot(metrics_to_plot, ax=ax, x='Variable', y='Value', hue='Type')\n",
    "p.set_title('RMSE по моделям')\n",
    "p.set_xlabel('Алгоритм')\n",
    "p.set_ylabel('Значение (x1000)')\n",
    "p.bar_label(p.containers[0])\n",
    "_ = p.bar_label(p.containers[1])"
   ]
  },
  {
   "cell_type": "markdown",
   "metadata": {},
   "source": [
    "# 6. Подбор гиперпараметров"
   ]
  },
  {
   "cell_type": "markdown",
   "metadata": {},
   "source": [
    "`Для данного шага воспользуемся optuna. Для тех, кто не понимает, почему лучше использовать ее, то прошу прочесть недавнюю статью, которые рассказывают причину данного выбора:`\n",
    "\n",
    "[Ссылка](https://medium.com/@abdalrahman_shahrour/optuna-vs-gridsearch-57227556c450)"
   ]
  },
  {
   "cell_type": "markdown",
   "metadata": {},
   "source": [
    "## 6.1. CatBoost"
   ]
  },
  {
   "cell_type": "code",
   "execution_count": null,
   "metadata": {
    "execution": {
     "iopub.execute_input": "2023-12-27T15:56:10.206043Z",
     "iopub.status.busy": "2023-12-27T15:56:10.205456Z",
     "iopub.status.idle": "2023-12-27T15:56:10.214579Z",
     "shell.execute_reply": "2023-12-27T15:56:10.213019Z",
     "shell.execute_reply.started": "2023-12-27T15:56:10.205998Z"
    }
   },
   "outputs": [],
   "source": [
    "def objective_cat(trial):\n",
    "    catboost_params = {\n",
    "        'iterations': 2000,\n",
    "        'learning_rate': trial.suggest_float('learning_rate', 1e-3, 0.1, log=True),\n",
    "        'depth': trial.suggest_int('depth', 1, 12),\n",
    "        'subsample': trial.suggest_float('subsample', 0.05, 1.0),\n",
    "        'colsample_bylevel': trial.suggest_float('colsample_bylevel', 0.05, 1.0),\n",
    "        'min_data_in_leaf': trial.suggest_int('min_data_in_leaf', 1, 200),\n",
    "        'random_state': RAND_STATE,\n",
    "        'verbose': False,\n",
    "    }\n",
    "\n",
    "    _cat = CatBoostRegressor(**catboost_params)\n",
    "    _cat.fit(X_train, y_train)\n",
    "\n",
    "    preds = _cat.predict(X_test)\n",
    "    rmse = mean_squared_error(y_test, preds, squared=False)\n",
    "\n",
    "    return rmse"
   ]
  },
  {
   "cell_type": "code",
   "execution_count": null,
   "metadata": {
    "execution": {
     "iopub.execute_input": "2023-12-27T15:56:10.217358Z",
     "iopub.status.busy": "2023-12-27T15:56:10.216787Z",
     "iopub.status.idle": "2023-12-27T16:03:44.850854Z",
     "shell.execute_reply": "2023-12-27T16:03:44.849543Z",
     "shell.execute_reply.started": "2023-12-27T15:56:10.217314Z"
    }
   },
   "outputs": [],
   "source": [
    "study_cat = optuna.create_study(direction='minimize')\n",
    "study_cat.optimize(objective_cat, n_trials=60)"
   ]
  },
  {
   "cell_type": "code",
   "execution_count": null,
   "metadata": {
    "execution": {
     "iopub.execute_input": "2023-12-27T16:03:44.857893Z",
     "iopub.status.busy": "2023-12-27T16:03:44.857493Z",
     "iopub.status.idle": "2023-12-27T16:03:44.866315Z",
     "shell.execute_reply": "2023-12-27T16:03:44.864841Z",
     "shell.execute_reply.started": "2023-12-27T16:03:44.857862Z"
    }
   },
   "outputs": [],
   "source": [
    "# Catboost\n",
    "print('Best hyperparameters:', study_cat.best_params)\n",
    "print('Best RMSE:', study_cat.best_value)"
   ]
  },
  {
   "cell_type": "markdown",
   "metadata": {},
   "source": [
    "## 6.2. Random Forest"
   ]
  },
  {
   "cell_type": "code",
   "execution_count": null,
   "metadata": {
    "execution": {
     "iopub.execute_input": "2023-12-27T16:03:44.868160Z",
     "iopub.status.busy": "2023-12-27T16:03:44.867787Z",
     "iopub.status.idle": "2023-12-27T16:03:44.878686Z",
     "shell.execute_reply": "2023-12-27T16:03:44.877118Z",
     "shell.execute_reply.started": "2023-12-27T16:03:44.868131Z"
    }
   },
   "outputs": [],
   "source": [
    "def objective_rf(trial):\n",
    "    params = {\n",
    "        'n_estimators': trial.suggest_int('n_estimators', 100, 1000, step=100),\n",
    "        'max_depth': trial.suggest_int('max_depth', 4, 50),\n",
    "        'min_samples_split': trial.suggest_int('min_samples_split', 2, 150),\n",
    "        'min_samples_leaf': trial.suggest_int('min_samples_leaf', 2, 60),\n",
    "        'random_state': RAND_STATE,\n",
    "    }\n",
    "\n",
    "    _rf = RandomForestRegressor(**params)\n",
    "    _rf.fit(X_train.values, y_train)\n",
    "\n",
    "    preds = _rf.predict(X_test.values)\n",
    "    rmse = mean_squared_error(y_test, preds, squared=False)\n",
    "\n",
    "    return rmse"
   ]
  },
  {
   "cell_type": "code",
   "execution_count": null,
   "metadata": {
    "execution": {
     "iopub.execute_input": "2023-12-27T16:03:44.880878Z",
     "iopub.status.busy": "2023-12-27T16:03:44.880484Z",
     "iopub.status.idle": "2023-12-27T16:24:52.404959Z",
     "shell.execute_reply": "2023-12-27T16:24:52.403701Z",
     "shell.execute_reply.started": "2023-12-27T16:03:44.880845Z"
    }
   },
   "outputs": [],
   "source": [
    "study_rf = optuna.create_study(direction='minimize')\n",
    "study_rf.optimize(objective_rf, n_trials=60)"
   ]
  },
  {
   "cell_type": "code",
   "execution_count": null,
   "metadata": {
    "execution": {
     "iopub.execute_input": "2023-12-27T16:24:52.407877Z",
     "iopub.status.busy": "2023-12-27T16:24:52.407095Z",
     "iopub.status.idle": "2023-12-27T16:24:52.414225Z",
     "shell.execute_reply": "2023-12-27T16:24:52.413183Z",
     "shell.execute_reply.started": "2023-12-27T16:24:52.407840Z"
    }
   },
   "outputs": [],
   "source": [
    "# Random Forest\n",
    "print('Лучшие гиперпараметры:', study_rf.best_params)\n",
    "print('Лучший RMSE:', study_rf.best_value)"
   ]
  },
  {
   "cell_type": "markdown",
   "metadata": {},
   "source": [
    "## 6.3. Gradient Boosting"
   ]
  },
  {
   "cell_type": "code",
   "execution_count": null,
   "metadata": {
    "execution": {
     "iopub.execute_input": "2023-12-27T16:24:52.415736Z",
     "iopub.status.busy": "2023-12-27T16:24:52.415354Z",
     "iopub.status.idle": "2023-12-27T16:24:52.427112Z",
     "shell.execute_reply": "2023-12-27T16:24:52.426094Z",
     "shell.execute_reply.started": "2023-12-27T16:24:52.415706Z"
    }
   },
   "outputs": [],
   "source": [
    "def objective_gb(trial):\n",
    "    params = {\n",
    "        'n_estimators': trial.suggest_int('n_estimators', 100, 5000, step=100),\n",
    "        'learning_rate': trial.suggest_float('learning_rate', 1e-4, 0.3, log=True),\n",
    "        'max_depth': trial.suggest_int('max_depth', 3, 9),\n",
    "        'subsample': trial.suggest_float('subsample', 0.5, 0.9, step=0.05),\n",
    "        'max_features': trial.suggest_categorical('max_features', ['sqrt', 'log2']),\n",
    "        'random_state': RAND_STATE,\n",
    "    }\n",
    "\n",
    "    _gb = GradientBoostingRegressor(**params)\n",
    "    _gb.fit(X_train, y_train)\n",
    "\n",
    "    preds = _gb.predict(X_test)\n",
    "    rmse = mean_squared_error(y_test, preds, squared=False)\n",
    "\n",
    "    return rmse"
   ]
  },
  {
   "cell_type": "code",
   "execution_count": null,
   "metadata": {
    "execution": {
     "iopub.execute_input": "2023-12-27T16:24:52.429455Z",
     "iopub.status.busy": "2023-12-27T16:24:52.428424Z",
     "iopub.status.idle": "2023-12-27T16:40:29.099841Z",
     "shell.execute_reply": "2023-12-27T16:40:29.098689Z",
     "shell.execute_reply.started": "2023-12-27T16:24:52.429413Z"
    }
   },
   "outputs": [],
   "source": [
    "study_gb = optuna.create_study(direction='minimize')\n",
    "study_gb.optimize(objective_gb, n_trials=60)"
   ]
  },
  {
   "cell_type": "code",
   "execution_count": null,
   "metadata": {
    "execution": {
     "iopub.execute_input": "2023-12-27T16:40:29.101679Z",
     "iopub.status.busy": "2023-12-27T16:40:29.101300Z",
     "iopub.status.idle": "2023-12-27T16:40:29.112542Z",
     "shell.execute_reply": "2023-12-27T16:40:29.111390Z",
     "shell.execute_reply.started": "2023-12-27T16:40:29.101648Z"
    }
   },
   "outputs": [],
   "source": [
    "# Gradient Boosting\n",
    "print('Лучшие гиперпараметры:', study_gb.best_params)\n",
    "print('Лучший RMSE:', study_gb.best_value)"
   ]
  },
  {
   "cell_type": "markdown",
   "metadata": {},
   "source": [
    "# 7. Реализация ансамбля черзе стэкинг моделей"
   ]
  },
  {
   "cell_type": "code",
   "execution_count": null,
   "metadata": {
    "execution": {
     "iopub.execute_input": "2023-12-27T16:40:29.114272Z",
     "iopub.status.busy": "2023-12-27T16:40:29.113733Z",
     "iopub.status.idle": "2023-12-27T16:41:49.696509Z",
     "shell.execute_reply": "2023-12-27T16:41:49.695124Z",
     "shell.execute_reply.started": "2023-12-27T16:40:29.114243Z"
    }
   },
   "outputs": [],
   "source": [
    "p1 = study_cat.best_params\n",
    "p1['iterations'] = 2000\n",
    "p1['verbose'] = False\n",
    "p1['random_state'] = RAND_STATE\n",
    "\n",
    "p2 = study_rf.best_params\n",
    "p2['random_state'] = RAND_STATE\n",
    "\n",
    "p3 = study_gb.best_params\n",
    "p3['random_state'] = RAND_STATE\n",
    "\n",
    "cat = CatBoostRegressor(**p1).fit(df, y)\n",
    "rf = RandomForestRegressor(**p2).fit(df, y)\n",
    "gb = GradientBoostingRegressor(**p3).fit(df, y)"
   ]
  },
  {
   "cell_type": "code",
   "execution_count": null,
   "metadata": {
    "execution": {
     "iopub.execute_input": "2023-12-27T16:41:49.698556Z",
     "iopub.status.busy": "2023-12-27T16:41:49.698081Z",
     "iopub.status.idle": "2023-12-27T16:41:55.747139Z",
     "shell.execute_reply": "2023-12-27T16:41:55.745870Z",
     "shell.execute_reply.started": "2023-12-27T16:41:49.698523Z"
    }
   },
   "outputs": [],
   "source": [
    "last = pd.DataFrame()\n",
    "last['rf'] = rf.predict(df)\n",
    "last['cat'] = cat.predict(df)\n",
    "last['gb'] = gb.predict(df)\n",
    "\n",
    "last_test = pd.DataFrame()\n",
    "last_test['rf'] = rf.predict(test_submit)\n",
    "last_test['cat'] = cat.predict(test_submit)\n",
    "last_test['gb'] = gb.predict(test_submit)"
   ]
  },
  {
   "cell_type": "code",
   "execution_count": null,
   "metadata": {
    "execution": {
     "iopub.execute_input": "2023-12-27T16:41:55.749078Z",
     "iopub.status.busy": "2023-12-27T16:41:55.748590Z",
     "iopub.status.idle": "2023-12-27T16:41:55.773601Z",
     "shell.execute_reply": "2023-12-27T16:41:55.772316Z",
     "shell.execute_reply.started": "2023-12-27T16:41:55.749045Z"
    }
   },
   "outputs": [],
   "source": [
    "model = Ridge().fit(last, y)\n",
    "preds = model.predict(last_test)\n",
    "preds[preds < 0] = 0"
   ]
  },
  {
   "cell_type": "markdown",
   "metadata": {},
   "source": [
    "# 8. SHAP Анализ"
   ]
  },
  {
   "cell_type": "code",
   "execution_count": null,
   "metadata": {
    "execution": {
     "iopub.execute_input": "2023-12-27T16:41:55.775906Z",
     "iopub.status.busy": "2023-12-27T16:41:55.775496Z",
     "iopub.status.idle": "2023-12-27T16:42:16.314773Z",
     "shell.execute_reply": "2023-12-27T16:42:16.313501Z",
     "shell.execute_reply.started": "2023-12-27T16:41:55.775872Z"
    }
   },
   "outputs": [],
   "source": [
    "explainer = shap.Explainer(cat)\n",
    "shap_values = explainer(test_submit)"
   ]
  },
  {
   "cell_type": "markdown",
   "metadata": {},
   "source": [
    "## 8.1. Waterfall"
   ]
  },
  {
   "cell_type": "code",
   "execution_count": null,
   "metadata": {
    "execution": {
     "iopub.execute_input": "2023-12-27T16:42:16.317422Z",
     "iopub.status.busy": "2023-12-27T16:42:16.316380Z",
     "iopub.status.idle": "2023-12-27T16:42:17.378575Z",
     "shell.execute_reply": "2023-12-27T16:42:17.376956Z",
     "shell.execute_reply.started": "2023-12-27T16:42:16.317377Z"
    }
   },
   "outputs": [],
   "source": [
    "shap.plots.waterfall(shap_values[0])"
   ]
  },
  {
   "cell_type": "markdown",
   "metadata": {},
   "source": [
    "`По результату первой проверки видим больше влияние со стороны старого доброего 2005-го`"
   ]
  },
  {
   "cell_type": "markdown",
   "metadata": {},
   "source": [
    "## 8.2. Bar chart"
   ]
  },
  {
   "cell_type": "markdown",
   "metadata": {},
   "source": [
    "`По данному критерию, по сути как и по SelectKBest, обределяем важность наших фичей`"
   ]
  },
  {
   "cell_type": "code",
   "execution_count": null,
   "metadata": {
    "execution": {
     "iopub.execute_input": "2023-12-27T16:42:17.381368Z",
     "iopub.status.busy": "2023-12-27T16:42:17.380757Z",
     "iopub.status.idle": "2023-12-27T16:42:17.863143Z",
     "shell.execute_reply": "2023-12-27T16:42:17.861576Z",
     "shell.execute_reply.started": "2023-12-27T16:42:17.381317Z"
    }
   },
   "outputs": [],
   "source": [
    "shap.plots.bar(shap_values)"
   ]
  },
  {
   "cell_type": "markdown",
   "metadata": {},
   "source": [
    "`Несмотря на некоторое отклонение по результатам анализов, сделанных ранее, год и пробег все также составляют сильное влияние на дальнейший прогноз`"
   ]
  },
  {
   "cell_type": "markdown",
   "metadata": {},
   "source": [
    "# 9. Экспортирование результатов"
   ]
  },
  {
   "cell_type": "code",
   "execution_count": null,
   "metadata": {
    "execution": {
     "iopub.execute_input": "2023-12-27T16:42:22.552257Z",
     "iopub.status.busy": "2023-12-27T16:42:22.549853Z",
     "iopub.status.idle": "2023-12-27T16:42:22.882505Z",
     "shell.execute_reply": "2023-12-27T16:42:22.881021Z",
     "shell.execute_reply.started": "2023-12-27T16:42:22.552203Z"
    }
   },
   "outputs": [],
   "source": [
    "with open('output.csv', 'w') as file:\n",
    "    file.write('ID,Price\\n')\n",
    "    for i, val in enumerate(gb.predict(test_submit)):\n",
    "        file.write(f'{i},{val}\\n')"
   ]
  }
 ],
 "metadata": {
  "kaggle": {
   "accelerator": "none",
   "dataSources": [
    {
     "datasetId": 4175969,
     "sourceId": 7216057,
     "sourceType": "datasetVersion"
    }
   ],
   "dockerImageVersionId": 30626,
   "isGpuEnabled": false,
   "isInternetEnabled": true,
   "language": "python",
   "sourceType": "notebook"
  },
  "kernelspec": {
   "display_name": "Python 3 (ipykernel)",
   "language": "python",
   "name": "python3"
  },
  "language_info": {
   "codemirror_mode": {
    "name": "ipython",
    "version": 3
   },
   "file_extension": ".py",
   "mimetype": "text/x-python",
   "name": "python",
   "nbconvert_exporter": "python",
   "pygments_lexer": "ipython3",
   "version": "3.12.1"
  }
 },
 "nbformat": 4,
 "nbformat_minor": 4
}
